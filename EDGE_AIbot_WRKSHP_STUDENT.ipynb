{
 "cells": [
  {
   "cell_type": "markdown",
   "metadata": {},
   "source": [
    "## **Welcome to WorkShop #2!!**"
   ]
  },
  {
   "cell_type": "markdown",
   "metadata": {},
   "source": [
    "### Let us start with a quick review of what we learned in workshop 1, we are first going to revisit \n",
    "- Arrays\n",
    "- Tuples\n",
    "- Dictionaries\n",
    "\n",
    "Below please try your best to produce code that satisfies the requirements."
   ]
  },
  {
   "cell_type": "markdown",
   "metadata": {},
   "source": [
    "## Arrays\n",
    "In the code block below, define a variable named fruits and list your three favorite fruits in an array."
   ]
  },
  {
   "cell_type": "code",
   "execution_count": 2,
   "metadata": {},
   "outputs": [],
   "source": [
    "#HINT: An array is a list of values that are enclosed by brackets. \n",
    "#Don't forget to use '' or \" \" for each string (fruit name) value\n",
    "\n"
   ]
  },
  {
   "cell_type": "markdown",
   "metadata": {},
   "source": [
    "The code below checks if your code is an array that includes 3 values. If no errors occur continue to the next part!"
   ]
  },
  {
   "cell_type": "code",
   "execution_count": 3,
   "metadata": {},
   "outputs": [],
   "source": [
    "assert len(fruits) == 3"
   ]
  },
  {
   "cell_type": "markdown",
   "metadata": {},
   "source": [
    "## Dictionaries\n",
    "\n",
    "In the code block below, define a variable named student_info and store a dictionary that includes the following key-value pairs:\n",
    "\n",
    "- \"name\": Your name as a string\n",
    "- \"age\": Your age as an integer\n",
    "- \"favorite_subject\": Your favorite school subject as a string\n"
   ]
  },
  {
   "cell_type": "code",
   "execution_count": 4,
   "metadata": {},
   "outputs": [],
   "source": [
    "#put your code here \n"
   ]
  },
  {
   "cell_type": "markdown",
   "metadata": {},
   "source": [
    "The code below checks your work do not change anything below. Run the block below and if no errors occur then your code is correct!!\n"
   ]
  },
  {
   "cell_type": "code",
   "execution_count": 5,
   "metadata": {},
   "outputs": [],
   "source": [
    "#checks if the dictionary has 3 entries\n",
    "assert len(student_info) == 3\n",
    "#checks if name value is a string\n",
    "assert isinstance(student_info[\"name\"], str)\n",
    "#checks if age is an integer\n",
    "assert isinstance(student_info[\"age\"], int)\n"
   ]
  },
  {
   "cell_type": "markdown",
   "metadata": {},
   "source": [
    "## Tuples\n",
    "\n",
    "In the code block below, define a variable named numbers and store a tuple containing your age, the numeric grade that you are in, and your favorite number."
   ]
  },
  {
   "cell_type": "code",
   "execution_count": 6,
   "metadata": {},
   "outputs": [],
   "source": [
    "#remember tuples are immutable lists that are enclosed by ().\n"
   ]
  },
  {
   "cell_type": "code",
   "execution_count": 7,
   "metadata": {},
   "outputs": [],
   "source": [
    "assert isinstance(numbers, tuple)"
   ]
  },
  {
   "cell_type": "markdown",
   "metadata": {},
   "source": [
    "## YAY! Now we will look into functions again!"
   ]
  },
  {
   "cell_type": "markdown",
   "metadata": {},
   "source": [
    "In the code block below, define a function named **greet** that takes a parameter name. The function should return a string that says \"Hello, [name]!\" where [name] is replaced with the value passed to the function. (Don't be afraid to ask for help!)"
   ]
  },
  {
   "cell_type": "code",
   "execution_count": 8,
   "metadata": {},
   "outputs": [],
   "source": [
    "#HINT: when working with strings, you can connect the parameter with the string using +. \n",
    "#For example, \n",
    "#def greet(age):\n",
    "#       return \"Hi i am \" + str(age) + \"years old\"\n",
    "\n",
    "\n",
    "#uncomment the line below and add your name in the function and run the code!\n",
    "#print(greet())"
   ]
  },
  {
   "cell_type": "markdown",
   "metadata": {},
   "source": [
    "## Now lets do a little review on what we coded last workshop. "
   ]
  },
  {
   "cell_type": "markdown",
   "metadata": {},
   "source": [
    "#### We created our game environment for our own virtual rendition of BattleShip. We used functions draw_grids and draw_ships to create our games four grids as well as our randomly generated ships. "
   ]
  },
  {
   "cell_type": "code",
   "execution_count": 9,
   "metadata": {},
   "outputs": [
    {
     "name": "stdout",
     "output_type": "stream",
     "text": [
      "pygame 2.5.2 (SDL 2.28.3, Python 3.11.4)\n",
      "Hello from the pygame community. https://www.pygame.org/contribute.html\n"
     ]
    }
   ],
   "source": [
    "import random\n",
    "import pygame"
   ]
  },
  {
   "cell_type": "markdown",
   "metadata": {},
   "source": [
    "## WHAT WE CODED LAST TIME\n",
    "\n",
    "- We initialized Pygame and define the essential global variables and constants that will control the game's display, visual elements, and gameplay settings. \n",
    "\n",
    "- `draw_grids` drew the game grids for both the player and the opponent. The game board is made up of two 10x10 grids, each represented by a series of rectangles. These grids serve as the interface where players can interact and track their progress.\n",
    "\n",
    "- **Ship class** to define these properties. The class includes methods to randomly place the ship on the grid, taking into account its size and orientation. Understanding this class will help us in creating and managing ships during the game.\n",
    "\n",
    "- `draw_ships` that will draws ships onto a grid. This grid represents a player's game board, and the ships are placed on this board. \n",
    "\n",
    "- **Player class** encapsulates everything related to a player in the game. It tracks critical game elements such as the player's ships, their positions on the grid, and the state of the player’s search grid (which records where the player has targeted and whether they've hit or missed enemy ships).\n",
    "\n",
    "- **Game` class** which is responsible for managing the overall flow of the game, tracking player turns, making moves, and determining the game state. \n"
   ]
  },
  {
   "cell_type": "markdown",
   "metadata": {},
   "source": [
    "## This time...\n",
    "\n",
    "- ### We will code a simple random AI algorithm using the Random library.\n",
    "- ### We will implement this in the code that we accomplished last workshop.\n",
    "- ### Then we will continue to improve the algorthim so that the AI can play competitively.\n",
    "    "
   ]
  },
  {
   "cell_type": "markdown",
   "metadata": {},
   "source": [
    "## If statements\n",
    "\n",
    "#### In programming, we often need to make decisions based on conditions. This is where `if statements` come in! They allow a program to execute different code blocks depending on whether a condition is true or false.\n",
    "\n",
    "```\n",
    "if condition:\n",
    "```\n",
    "- The condition is an expression that evaluates to either True or False.\n",
    "- If the condition is True, the indented block of code runs.\n",
    "- If the condition is False, the block is skipped.\n",
    "\n",
    "### Comparison Operators (>, <, >=, <=, ==, !=)\n",
    "\n",
    "Python provides comparison operators that help us compare values. These operators return either True or False.\n",
    "\n",
    "\n",
    "| Operator | Meaning                  | Example  | Result |\n",
    "|----------|--------------------------|---------|--------|\n",
    "| `>`      | Greater than              | `5 > 3`  | `True`  |\n",
    "| `<`      | Less than                 | `2 < 4`  | `True`  |\n",
    "| `>=`     | Greater than or equal to  | `7 >= 7` | `True`  |\n",
    "| `<=`     | Less than or equal to     | `10 <= 9` | `False`  |\n",
    "| `==`     | Equal to                  | `5 == 5` | `True`  |\n",
    "| `!=`     | Not equal to              | `3 != 2` | `True`  |\n",
    "\n",
    "Example: Using > and < in if statements:"
   ]
  },
  {
   "cell_type": "code",
   "execution_count": 21,
   "metadata": {},
   "outputs": [
    {
     "name": "stdout",
     "output_type": "stream",
     "text": [
      "It's warm outside!\n"
     ]
    }
   ],
   "source": [
    "temperature = 75\n",
    "\n",
    "if temperature > 70:  # Checks if temperature is greater than 70\n",
    "    print(\"It's warm outside!\")\n"
   ]
  },
  {
   "cell_type": "markdown",
   "metadata": {},
   "source": [
    "## If-Else Statement (Handling False Conditions)\n",
    "\n",
    "#### What if we want to do something when the condition is False? We use else:\n",
    "\n",
    "### If statement Practice Problem \n",
    "\n",
    "Write and if statement where if temperateure is greater than 70 then print \"Its warm\" else print \"its chilly\"."
   ]
  },
  {
   "cell_type": "code",
   "execution_count": null,
   "metadata": {},
   "outputs": [],
   "source": [
    "temperature = 60\n",
    "\n",
    "# write your code below\n"
   ]
  },
  {
   "cell_type": "markdown",
   "metadata": {},
   "source": [
    "## Logical Operators\n",
    "#### Logical operators allow us to combine multiple conditions in a single if statement.\n",
    "\n",
    "| Operator | Meaning                           | Example        | Result |\n",
    "|----------|-----------------------------------|---------------|--------|\n",
    "| `and`    | Both conditions must be `True`   | `True and True`  | `True`  |\n",
    "| `or`     | At least one condition must be `True` | `True or False` | `True`  |\n",
    "| `not`    | Negates (reverses) a condition   | `not True`       | `False` |\n",
    "\n"
   ]
  },
  {
   "cell_type": "markdown",
   "metadata": {},
   "source": [
    "### Logical Operators Practice Problem\n",
    " Write a Python program that asks the user for their age and membership duration in months. The program should print \"Eligible for free membership\" if both conditions are met, and \"Not eligible\" otherwise."
   ]
  },
  {
   "cell_type": "code",
   "execution_count": null,
   "metadata": {},
   "outputs": [],
   "source": [
    "#write your answer here"
   ]
  },
  {
   "cell_type": "markdown",
   "metadata": {},
   "source": [
    "## For Loops\n",
    "\n",
    "#### A `for loop` is used to iterate over a sequence (such as a list, tuple, string, or range of numbers). It allows us to execute a block of code multiple times without writing repetitive code manually.\n",
    "\n",
    "#### For loops iterate over sequences like lists, strings, and ranges.\n",
    "- ##### ✔ Use range(start, stop, step) for numeric sequences.\n",
    "- ##### ✔ Use break to stop a loop early.\n",
    "- ##### ✔ Use continue to skip an iteration.\n",
    "- ##### ✔ Use nested loops for multi-level iteration.\n",
    "- ##### ✔ Use enumerate() to get both index and value.\n",
    "- ##### ✔ Loop through dictionaries using .items().\n",
    "\n"
   ]
  },
  {
   "cell_type": "markdown",
   "metadata": {},
   "source": [
    "## For Loops Practice Problem \n",
    "\n",
    "Write a program that prints all even numbers from 1 to 20, but skips numbers that are divisible by 4."
   ]
  },
  {
   "cell_type": "code",
   "execution_count": null,
   "metadata": {},
   "outputs": [],
   "source": [
    "# Write your answer here"
   ]
  },
  {
   "cell_type": "markdown",
   "metadata": {},
   "source": [
    "## Random Algorithm\n",
    "\n",
    "A random AI algorithm for our Battleship game is just a way to make the computer guess where to fire without using any smart strategies. It’s like if you were blindfolded and just pointed at a random spot on the board to guess where a ship might be.\n",
    " \n",
    "The random library in Python is used for generating random numbers and making random choices. For this specific task we will be using:\n",
    "\n",
    "**random.choice(sequence)**\n",
    "\n",
    "- What it does: Picks a random item from a list (or any sequence like a tuple or string).\n",
    "\n",
    "Now, let’s try to code it using Python’s random library! "
   ]
  },
  {
   "cell_type": "markdown",
   "metadata": {},
   "source": [
    "```plaintext\n",
    "FUNCTION random_ai():\n",
    "    # Step 1: Get the search board for the current player\n",
    "    IF it is Player 1's turn:\n",
    "        SET search_board to Player 1's search grid\n",
    "    ELSE:\n",
    "        SET search_board to Player 2's search grid\n",
    "\n",
    "    # Step 2: Find all \"unknown\" (U) positions\n",
    "    SET unknown_positions to an empty list\n",
    "    FOR each index and value in search_board:\n",
    "        IF value is \"U\":   # \"U\" means this spot has not been guessed\n",
    "            ADD index to unknown_positions\n",
    "\n",
    "    # Step 3: Pick a random unknown spot and make a move\n",
    "    IF unknown_positions is not empty:\n",
    "        CHOOSE a random index from unknown_positions\n",
    "        CALL self.make_move(random_index)  # AI makes its move\n"
   ]
  },
  {
   "cell_type": "code",
   "execution_count": 10,
   "metadata": {},
   "outputs": [],
   "source": [
    "# try to implement your own algorthim given the psuedocode above. We have given you steps 1 and 2. \n",
    "# def random_ai(self):\n",
    "#   search = self.player1.search if self.player1_turn else self.player2.search\n",
    "#   unknown = [i for i, square in enumerate(search) if square == \"U\"]\n",
    "#   step 3\n"
   ]
  },
  {
   "cell_type": "markdown",
   "metadata": {},
   "source": [
    "## Lets look at our Global Variables\n",
    "\n",
    "### Why Do We Define These Global Variables?\n",
    "\n",
    "In your Battleship game, these global variables set up important values for the game board, players, and colors. Let’s break them down.\n",
    "\n",
    "**First**,\n",
    "There are two additions that we must make to our game environment in order to incorporate a computer turn.\n",
    "\n",
    "We will not intialize the Global variables:\n",
    "- HUMAN1\n",
    "- HUMAN2\n",
    "\n",
    "\n"
   ]
  },
  {
   "cell_type": "code",
   "execution_count": 11,
   "metadata": {},
   "outputs": [],
   "source": [
    "# Pygame initialization\n",
    "pygame.init()\n",
    "pygame.display.set_caption(\"Battleship\")\n",
    "\n",
    "# Global variables\n",
    "SQ_SIZE = 40\n",
    "H_MARGIN = SQ_SIZE * 4\n",
    "V_MARGIN = SQ_SIZE\n",
    "WIDTH = SQ_SIZE * 10 * 2 + H_MARGIN\n",
    "HEIGHT = SQ_SIZE * 10 * 2 + V_MARGIN\n",
    "INDENT = 5\n",
    "## add two player values\n",
    "HUMAN1 = True\n",
    "HUMAN2 = True\n",
    "# Colors\n",
    "GREY = (40,50,60)\n",
    "WHITE = (255, 250, 250)\n",
    "GREEN = (50, 200, 150)\n",
    "BLUE = (50, 150, 250)\n",
    "RED = (250, 50, 100)\n",
    "PINK = (250, 140, 220)\n",
    "SCREEN = pygame.display.set_mode((WIDTH, HEIGHT))\n",
    "COLORS = {\"U\": GREY, \"M\": BLUE, \"H\": PINK, \"S\": RED}\n"
   ]
  },
  {
   "cell_type": "code",
   "execution_count": 12,
   "metadata": {},
   "outputs": [],
   "source": [
    "def draw_grid(player, left=0, top=0, search = False):\n",
    "    for i in range(100):\n",
    "        # Column that we are in\n",
    "        x = left + i % 10 * SQ_SIZE\n",
    "        # Row that we are in\n",
    "        y = top + i // 10 * SQ_SIZE\n",
    "        square = pygame.Rect(x, y, SQ_SIZE, SQ_SIZE)\n",
    "        pygame.draw.rect(SCREEN, WHITE, square, width=3)\n",
    "        if search:\n",
    "            x += SQ_SIZE //2\n",
    "            y += SQ_SIZE // 2\n",
    "            pygame.draw.circle(SCREEN, COLORS[player.search[i]], (x,y), radius = (SQ_SIZE//4))"
   ]
  },
  {
   "cell_type": "markdown",
   "metadata": {},
   "source": [
    "## Recap of Classes\n",
    "\n",
    "##### A `class` in programming is a blueprint for creating objects. It defines a set of attributes (data) and methods (functions) that an object created from the class will have. You can think of a class as a template or a mold, and objects as the instances made from that template. When you create an object, you're instantiating the class.\n",
    "\n",
    "### Key Components of a Class:\n",
    "##### `Attributes:` These are variables that belong to the class. They hold data specific to each instance of the class.\n",
    "##### `Methods:` These are functions defined inside a class that perform actions using the class's data or perform other operations.\n",
    "\n",
    "## Difference between Functions and Classes\n",
    "##### A function performs actions or computations, while a class defines a template for creating objects with both data and methods. Functions typically don't hold state, whereas classes can define state for each object created from them."
   ]
  },
  {
   "cell_type": "code",
   "execution_count": null,
   "metadata": {},
   "outputs": [],
   "source": [
    "class Ship:\n",
    "    def __init__(self, size):\n",
    "        self.row = random.randrange(0,9)\n",
    "        self.col = random.randrange(0,9)\n",
    "        self.size = size\n",
    "        self.orientation = random.choice([\"h\", \"v\"])\n",
    "        self.indexes = self.compute_indexes()\n",
    "\n",
    "    def compute_indexes(self):\n",
    "        start_index = self.row * 10 + self.col\n",
    "        if self.orientation == 'h':\n",
    "            for i in range(self.size):\n",
    "                return start_index + i \n",
    "        elif self.orientation == \"v\":\n",
    "            return [start_index + i *10 for i in range(self.size)]\n",
    "        "
   ]
  },
  {
   "cell_type": "markdown",
   "metadata": {},
   "source": [
    "```plaintext \n",
    "if self.orientation == 'h':\n",
    "        return [start_index + i for i in range(self.size)]\n",
    "elif self.orientation == \"v\":\n",
    "        return [start_index + i *10 for i in range(self.size)]\n",
    "        "
   ]
  },
  {
   "cell_type": "markdown",
   "metadata": {},
   "source": [
    "\n",
    "The short hand in the if and elif statement is something called `list comprehension`. It is equivalent to writing a for loop \n",
    "the list comprehension would look like this in a for loop:\n",
    "\n",
    "```plaintext\n",
    "position = []\n",
    "if self.orientation == 'h':\n",
    "    for i in tange(self.size):\n",
    "        position.append[start_index + i * 10]\n",
    "```"
   ]
  },
  {
   "cell_type": "markdown",
   "metadata": {},
   "source": [
    "## Our Player Class\n",
    "\n",
    "### This Player class is like a player in the game who places their ships and keeps track of the board.\n",
    "\n",
    "#### When we create a player (__init__ method):\n",
    "\n",
    "- They have an empty list of ships (self.ships = []).\n",
    "- They make a search board (self.search), a list of 100 \"U\" (meaning \"Unknown\") to track guesses.\n",
    "- They automatically place ships of sizes 5, 4, 3, 3, and 2.\n",
    "- After placing the ships, they gather all ship positions into self.indexes (so they know where their ships are).\n",
    "\n",
    "### 2️⃣ Placing Ships (place_ships method)\n",
    "\n",
    "#### The game needs to place ships on the board without breaking the rules.\n",
    "\n",
    "#### 🎯 How it works:\n",
    "- Go through each ship size (e.g., first a ship of size 5, then 4, etc.).\n",
    "- Try to place it by randomly picking a spot using the Ship class.\n",
    "- Check if the placement is valid:\n",
    "- The ship's positions must be less than 100 (stay inside the board).\n",
    "- It must be a straight line (not zigzag like a snake 🐍).\n",
    "- It cannot overlap another ship.\n",
    "- If everything is good ✅, place the ship and move to the next one. If not ❌, try again until it fits.\n",
    "\n",
    "#### 3️⃣ Showing the Ships (show_ships method)\n",
    "\n",
    "Once the ships are placed, you can print the board to see where the ships are.\n",
    "How?\n",
    "- It makes a list where \"X\" represents a ship and \"-\" represents empty water.\n",
    "- It prints the board row by row.\n"
   ]
  },
  {
   "cell_type": "code",
   "execution_count": 14,
   "metadata": {},
   "outputs": [],
   "source": [
    "class Player:\n",
    "    def __init__(self):\n",
    "        self.ships = []\n",
    "        self.search = [\"U\" for i in range(100)] #U for unknown \n",
    "        self.place_ships(sizes = [5, 4, 3, 3, 2])\n",
    "        list_of_lists = [ship.indexes for ship in self.ships]\n",
    "        self.indexes = [index for sublist in list_of_lists for index in sublist]\n",
    "        \n",
    "    def place_ships(self, sizes):\n",
    "        for size in sizes:\n",
    "            placed = False\n",
    "            while not placed:\n",
    "                \n",
    "                #create a new ship\n",
    "                ship = Ship(size)\n",
    "                \n",
    "                #check if placement is possible\n",
    "                possible = True\n",
    "                for i in ship.indexes: \n",
    "                    #indexes must be < 100:\n",
    "                    if i >= 100:\n",
    "                        possible = False\n",
    "                        break\n",
    "                        \n",
    "                    #ships cannot behave like snakes\n",
    "                    new_row = i // 10 \n",
    "                    new_col = i % 10 \n",
    "                    if new_row != ship.row and new_col != ship.col:\n",
    "                        possible = False \n",
    "                        break \n",
    "                    \n",
    "                    #ships cannot intersect   \n",
    "                    for other_ship in self.ships:\n",
    "                        if i in other_ship.indexes:\n",
    "                            possible = False\n",
    "                            break\n",
    "                #place the ship            \n",
    "                if possible:\n",
    "                    self.ships.append(ship)\n",
    "                    placed = True\n",
    "                    \n",
    "    def show_ships(self):\n",
    "        indexes = [\"-\" if i not in self.indexes else \"X\" for i in range(100)]\n",
    "        for row in range(10):\n",
    "            print(\" \".join(indexes[(row-1)*10: row*10]))"
   ]
  },
  {
   "cell_type": "code",
   "execution_count": 15,
   "metadata": {},
   "outputs": [],
   "source": [
    "def draw_ships(player, left = 0, top = 0):\n",
    "    for ship in player.ships:\n",
    "        x = left + ship.col * SQ_SIZE + INDENT\n",
    "        y = top + ship.row * SQ_SIZE + INDENT\n",
    "        if ship.orientation == \"h\":\n",
    "            width = ship.size * SQ_SIZE - 2*INDENT\n",
    "            height = SQ_SIZE - 2*INDENT\n",
    "        else:\n",
    "            width = SQ_SIZE - 2*INDENT\n",
    "            height = ship.size * SQ_SIZE - 2*INDENT\n",
    "        rectangle = pygame.Rect(x, y, width, height) \n",
    "        pygame.draw.rect(SCREEN, GREEN, rectangle, border_radius = 15)"
   ]
  },
  {
   "cell_type": "markdown",
   "metadata": {},
   "source": [
    "## We are going to take a closer look at our make_moves function.\n",
    "\n",
    "### What Should make_moves Do?\n",
    "\n",
    "#### The make_moves function should:\n",
    "\n",
    "- Get the current player’s turn (Player 1 or Player 2).\n",
    "- Choose a move (either from a human or an AI).\n",
    "- Check if the move is valid (hasn’t been played before).\n",
    "- Update the board (mark hit \"H\" or miss \"M\").\n",
    "- Check if the game is over (all ships sunk).\n",
    "- Switch turns to the other player.\n",
    "\n",
    "## Breaking It Into Smaller Parts\n",
    "\n",
    "#### To make the function cleaner, we’ll split it into helper steps inside make_moves:\n",
    "\n",
    "### 1️⃣ Get the current player\n",
    "If it's Player 1's turn, they make the move.\n",
    "Otherwise, Player 2 makes the move.\n",
    "### 2️⃣ Pick a move\n",
    "If the player is human, we wait for mouse input (click on a grid square).\n",
    "If the player is an AI, it picks a move using its strategy (random, checkerboard, or near hits).\n",
    "### 3️⃣ Check if the move is valid\n",
    "The move must be within the board (0-99).\n",
    "It must not have been played before (not in \"H\" or \"M\" squares).\n",
    "### 4️⃣ Update the board\n",
    "If it’s a hit, mark it as \"H\" and store the hit position.\n",
    "If it’s a miss, mark it as \"M\".\n",
    "### 5️⃣ Check if the game is over\n",
    "If all ship parts are hit, the game ends.\n",
    "### 6️⃣ Switch turns\n",
    "Change self.player1_turn = not self.player1_turn to swap turns."
   ]
  },
  {
   "cell_type": "code",
   "execution_count": null,
   "metadata": {},
   "outputs": [],
   "source": [
    "## answer\n",
    "\n"
   ]
  },
  {
   "cell_type": "markdown",
   "metadata": {},
   "source": [
    "## Here is where we will implement our AI\n",
    "\n",
    "There are a couple additions that we must make to this class.\n",
    "\n",
    "The following code is responsible for switching turns between the two players in the game and implementing a random AI opponent when needed. "
   ]
  },
  {
   "cell_type": "markdown",
   "metadata": {},
   "source": [
    "```plaintext\n",
    "if not hit:\n",
    "            self.player1_turn = not self.player1_turn"
   ]
  },
  {
   "cell_type": "markdown",
   "metadata": {},
   "source": [
    "\n",
    "\n",
    "It ensures that players take alternating turns, and if the game includes a computer opponent, we need to ensure that when a player makes a move then the next move will be our random ai.\n",
    "\n",
    "Try and code an If statement similar to the one above that ensures players alternate turns with the AI.\n",
    "\n",
    "Some Psuedocode is provided to aide you but don't be afraid to ask for help!"
   ]
  },
  {
   "cell_type": "markdown",
   "metadata": {},
   "source": [
    "```plaintext\n",
    "IF (Player 1 is human AND Player 2 is NOT human) \n",
    "   OR (Player 1 is NOT human AND Player 2 is human):\n",
    "    \n",
    "    SWITCH computer_turn to the opposite value (True → False OR False → True)\n"
   ]
  },
  {
   "cell_type": "code",
   "execution_count": 16,
   "metadata": {},
   "outputs": [],
   "source": [
    "#HINT: We are going to have to use the human1 and human 2 variables.\n",
    "\n"
   ]
  },
  {
   "cell_type": "code",
   "execution_count": 20,
   "metadata": {},
   "outputs": [],
   "source": [
    "HUMAN1 = True \n",
    "HUMAN2 = True"
   ]
  },
  {
   "cell_type": "code",
   "execution_count": 17,
   "metadata": {},
   "outputs": [],
   "source": [
    "class Game:\n",
    "    def __init__(self, human1, human2):\n",
    "        ##include the human1, human2 varuables\n",
    "        self.human1 = human1\n",
    "        self.human2 = human2\n",
    "        #These are instances of the Player class, representing the two players in the game.\n",
    "        self.player1 = Player() \n",
    "        self.player2 = Player()\n",
    "        \n",
    "        #This boolean variable keeps track of whose turn it is\n",
    "        self.player1_turn = True\n",
    "        \n",
    "        #include a new property that intitates a computers turn.\n",
    "        self.computer_turn = True if not self.human1 else False\n",
    "        self.over = False\n",
    "        self.result = None\n",
    "        \n",
    "    def make_move(self, i):\n",
    "        player = self.player1 if self.player1_turn else self.player2\n",
    "        opponent = self.player2 if self.player1_turn else self.player1\n",
    "        hit = False\n",
    "        #set miss \"M\" or hit \"H\"\n",
    "        if i in opponent.indexes:\n",
    "            player.search[i] = \"H\"\n",
    "            #check if ship sunk\n",
    "            for ship in opponent.ships:\n",
    "                sunk = True\n",
    "                for i in ship.indexes:\n",
    "                    if player.search[i] == \"U\":\n",
    "                        sunk = False\n",
    "                        break\n",
    "                if sunk:\n",
    "                    for i in ship.indexes:\n",
    "                        player.search[i] = \"S\"\n",
    "        else:\n",
    "            player.search[i] = \"M\"\n",
    "\n",
    "        #check if game is over\n",
    "        game_over = True\n",
    "        for i in opponent.indexes:\n",
    "            if player.search[i] == \"U\":\n",
    "                game_over = False\n",
    "            self.over = game_over\n",
    "            self.result = 1 if self.player1_turn else 2\n",
    "\n",
    "\n",
    "        # change the active team\n",
    "        if not hit:\n",
    "            self.player1_turn = not self.player1_turn\n",
    "            \n",
    "        ##paste your code to switch between human and computer turns\n",
    "            if (self.human1 and not self.human2) or (not self.human1 and self.human2):\n",
    "                self.computer_turn = not self.computer_turn\n",
    "    \n",
    "    ### Copy and paste your random_ai algorithm here\n",
    "    def random_ai(self):\n",
    "        search = self.player1.search if self.player1_turn else self.player2.search\n",
    "        unknown = [i for i, square in enumerate(search) if square == \"U\"]\n",
    "        if len(unknown) > 0:\n",
    "            random_index = random.choice(unknown)\n",
    "            self.make_move(random_index)\n",
    "\n",
    "    def basic_ai(self):\n",
    "\n",
    "        #set up\n",
    "        search = self.player1.search if self.player1_turn else self.player2.search\n",
    "        unknown = [i for i, square in enumerate(search) if square == \"U\"]\n",
    "        hits = [i for i, square in enumerate(search) if square == \"H\"]\n",
    "\n",
    "        #search in neighbor hood of hits\n",
    "        unknown_with_neighboring_hits1 = []\n",
    "        unknown_with_neighboring_hits2 = []\n",
    "        for u in unknown:\n",
    "            if u + 1 in hits or u - 1 in hits or u - 10 in hits or u +10 in hits:\n",
    "                unknown_with_neighboring_hits1.append(u)\n",
    "            if u + 2 in hits or u - 2 in hits or  u - 20 in hits or u + 20 in hits:\n",
    "                 unknown_with_neighboring_hits2.append(u)\n",
    "\n",
    "        # pick \"U: square with direct and level-2 neighbot bothe marked as \"H\"\n",
    "        for u in unknown:\n",
    "             if u in unknown_with_neighboring_hits1 and u in unknown_with_neighboring_hits2:\n",
    "                  self.make_move(u)\n",
    "                  return\n",
    "        #pick \"U\" square that has a neighbor marked as \"H\"\n",
    "        if len(unknown_with_neighboring_hits1) > 0:\n",
    "            self.make_move(random.choice(unknown_with_neighboring_hits1))\n",
    "            return\n",
    "        #checker board pattern\n",
    "        checker_board = []\n",
    "        for u in unknown:\n",
    "            row = u // 10\n",
    "            col = u % 10\n",
    "            if (row +col) % 2 == 0:\n",
    "                checker_board.append(u)\n",
    "        if len(checker_board) > 0: \n",
    "            self.make_move(random.choice(checker_board))\n",
    "            return\n",
    "\n",
    "        #random move\n",
    "        self.random_ai()\n"
   ]
  },
  {
   "cell_type": "code",
   "execution_count": 18,
   "metadata": {},
   "outputs": [],
   "source": [
    "game = Game(HUMAN1, HUMAN2) #calls our Game class from before                           \n",
    "# Pygame loop\n",
    "animating = True\n",
    "pausing = False"
   ]
  },
  {
   "cell_type": "markdown",
   "metadata": {},
   "source": [
    "## OUR GAME LOOP\n",
    "\n",
    "If you want to ensure that the random AI is called to make a move during your game loop, you would need to integrate the AI's logic into your main game loop.\n",
    "\n",
    "Typically, the AI would be called after each player’s move to determine the AI's move."
   ]
  },
  {
   "cell_type": "code",
   "execution_count": 19,
   "metadata": {},
   "outputs": [],
   "source": [
    "while animating:\n",
    "\n",
    "    # To track user interaction\n",
    "    for event in pygame.event.get():\n",
    "        \n",
    "        # user closes the window                                      \n",
    "        if event.type == pygame.QUIT:\n",
    "            animating = False\n",
    "                                              \n",
    "        # user clicks on mouse\n",
    "        if event.type == pygame.MOUSEBUTTONDOWN:\n",
    "            x,y = pygame.mouse.get_pos()\n",
    "            if game.player1_turn and x < SQ_SIZE * 10 and y < SQ_SIZE*10:\n",
    "                row = y // SQ_SIZE\n",
    "                col = x // SQ_SIZE\n",
    "                index = row * 10 +col\n",
    "                game.make_move(index) \n",
    "            \n",
    "            elif not game.player1_turn and x > WIDTH - SQ_SIZE * 10 and y > SQ_SIZE * 10 + V_MARGIN:\n",
    "                row = (y - SQ_SIZE * 10 - V_MARGIN) // SQ_SIZE\n",
    "                col = (x - SQ_SIZE * 10 - H_MARGIN) // SQ_SIZE\n",
    "                index = row * 10 + col\n",
    "                game.make_move(index)\n",
    "                \n",
    "        # User presses key on keyboard\n",
    "        if event.type == pygame.KEYDOWN:\n",
    "            \n",
    "            # Escape key to close the animation\n",
    "            if event.key == pygame.K_ESCAPE:\n",
    "                animating = False\n",
    "\n",
    "            # Space bar to pause and unpause\n",
    "            if event.key == pygame.K_SPACE:\n",
    "                pausing = not pausing\n",
    "            \n",
    "            ##return key to restart the game \n",
    "            if event.key == pygame.K_RETURN:\n",
    "                game = Game(HUMAN1, HUMAN2)\n",
    "\n",
    "    if not pausing:\n",
    "        # draw background\n",
    "        SCREEN.fill(GREY)\n",
    "\n",
    "        # draw search grids\n",
    "        draw_grid(game.player1, search = True) #top left corner\n",
    "        draw_grid(game.player2, search = True, left = ((WIDTH-H_MARGIN)//2 + H_MARGIN), \n",
    "                  top = (HEIGHT-V_MARGIN)//2 + V_MARGIN) #bottom right corner \n",
    "        #draw position grids\n",
    "        draw_grid(game.player1, left = ((WIDTH-H_MARGIN)//2 + H_MARGIN)) #top right corner\n",
    "        draw_grid(game.player2, top = (HEIGHT-V_MARGIN)//2 + V_MARGIN) #bottom left corner\n",
    "        \n",
    "        #draw ships onto position grids\n",
    "        draw_ships(game.player1, top = (HEIGHT-V_MARGIN)//2 + V_MARGIN)\n",
    "        draw_ships(game.player2, left = ((WIDTH-H_MARGIN)//2 + H_MARGIN))\n",
    "\n",
    "        ### computer moves\n",
    "        if not game.over and game.computer_turn:\n",
    "            game.random_ai()\n",
    "            #game.basic_ai()\n",
    "\n",
    "        # Update screen\n",
    "        pygame.display.flip()\n"
   ]
  },
  {
   "cell_type": "markdown",
   "metadata": {},
   "source": [
    "## What do you think we can include to improve this algorithm?\n",
    "\n",
    "Discuss with a partner"
   ]
  },
  {
   "cell_type": "markdown",
   "metadata": {},
   "source": [
    "# Code Challenge\n",
    "## Basic AI\n",
    "\n",
    "### 🚀 What Does This AI Do?\n",
    "#### This AI is trying to find and sink ships by making smart guesses instead of just shooting randomly.\n",
    "\n",
    "#### Its should follow 4 simple rules:\n",
    "\n",
    "- If it already hit part of a ship (\"H\"), it will look nearby for the next shot.\n",
    "- If it doesn’t find anything close, it guesses in a checkerboard pattern (like a chessboard).\n",
    "- If nothing else works, it shoots randomly.\n",
    "\n",
    "\n",
    "\n"
   ]
  },
  {
   "cell_type": "code",
   "execution_count": null,
   "metadata": {},
   "outputs": [],
   "source": [
    "## Try it out on your own\n"
   ]
  },
  {
   "cell_type": "markdown",
   "metadata": {},
   "source": [
    "## 🎯 Final Thoughts\n",
    "\n",
    "#### This AI is not perfect, but it’s smart! 🧠🚢\n",
    "\n",
    "- It targets ships when it gets a hit instead of guessing randomly.\n",
    "- It uses a checkerboard strategy to find ships faster.\n",
    "- It only picks a random move if nothing else works."
   ]
  },
  {
   "cell_type": "markdown",
   "metadata": {},
   "source": [
    "Future resources to explore and further things to consider \n",
    "Chess board implementation\n",
    "Final conlucsion and thoughts"
   ]
  }
 ],
 "metadata": {
  "kernelspec": {
   "display_name": "base",
   "language": "python",
   "name": "python3"
  },
  "language_info": {
   "codemirror_mode": {
    "name": "ipython",
    "version": 3
   },
   "file_extension": ".py",
   "mimetype": "text/x-python",
   "name": "python",
   "nbconvert_exporter": "python",
   "pygments_lexer": "ipython3",
   "version": "3.11.4"
  }
 },
 "nbformat": 4,
 "nbformat_minor": 2
}
